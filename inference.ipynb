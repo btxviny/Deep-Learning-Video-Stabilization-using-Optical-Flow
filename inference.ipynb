{
 "cells": [
  {
   "cell_type": "code",
   "execution_count": 2,
   "metadata": {},
   "outputs": [],
   "source": [
    "import torch\n",
    "import torch.nn as nn\n",
    "import torch.nn.functional as F\n",
    "import numpy as np\n",
    "import cv2\n",
    "import os\n",
    "from torchvision import transforms, models\n",
    "from utils import *\n",
    "from feature_stabilization import stabilize_video\n",
    "import matplotlib.pyplot as plt\n",
    "device = 'cuda'\n",
    "shape = (H,W,C) = (128,128,3)\n",
    "from time import time \n",
    "start = time()"
   ]
  },
  {
   "cell_type": "code",
   "execution_count": 3,
   "metadata": {},
   "outputs": [
    {
     "name": "stderr",
     "output_type": "stream",
     "text": [
      "Using cache found in C:\\Users\\VINY/.cache\\torch\\hub\\intel-isl_MiDaS_master\n",
      "c:\\Users\\VINY\\anaconda3\\envs\\vision\\lib\\site-packages\\tqdm\\auto.py:21: TqdmWarning: IProgress not found. Please update jupyter and ipywidgets. See https://ipywidgets.readthedocs.io/en/stable/user_install.html\n",
      "  from .autonotebook import tqdm as notebook_tqdm\n"
     ]
    },
    {
     "name": "stdout",
     "output_type": "stream",
     "text": [
      "Loading weights:  None\n"
     ]
    },
    {
     "name": "stderr",
     "output_type": "stream",
     "text": [
      "Using cache found in C:\\Users\\VINY/.cache\\torch\\hub\\rwightman_gen-efficientnet-pytorch_master\n",
      "Using cache found in C:\\Users\\VINY/.cache\\torch\\hub\\intel-isl_MiDaS_master\n"
     ]
    }
   ],
   "source": [
    "#set up raft\n",
    "raft = models.optical_flow.raft_small(weights = 'Raft_Small_Weights.C_T_V2').eval().to(device)\n",
    "#set up midas\n",
    "model_type = \"MiDaS_small\"  # MiDaS v2.1 - Small   (lowest accuracy, highest inference speed)\n",
    "midas = torch.hub.load(\"intel-isl/MiDaS\", model_type).eval().to(device)\n",
    "midas_transforms = torch.hub.load(\"intel-isl/MiDaS\", \"transforms\")"
   ]
  },
  {
   "cell_type": "code",
   "execution_count": 9,
   "metadata": {},
   "outputs": [],
   "source": [
    "path = 'E:/Datasets/DeepStab_Dataset/unstable/18.avi'\n",
    "cap = cv2.VideoCapture(path)\n",
    "Height = int(cap.get(cv2.CAP_PROP_FRAME_HEIGHT))\n",
    "Width = int(cap.get(cv2.CAP_PROP_FRAME_WIDTH))\n",
    "frames = []\n",
    "while True:\n",
    "    ret,frame = cap.read()\n",
    "    if not ret: break\n",
    "    frames.append(frame)\n",
    "cap.release()\n",
    "frames = np.array(frames, np.uint8)\n",
    "num_frames = frames.shape[0]"
   ]
  },
  {
   "cell_type": "code",
   "execution_count": 5,
   "metadata": {},
   "outputs": [
    {
     "name": "stdout",
     "output_type": "stream",
     "text": [
      "loaded weights mpi_7.pth\n"
     ]
    }
   ],
   "source": [
    "from model import MPI_Net\n",
    "model = MPI_Net(input_channels=40,num_outputs=40, ngf=32).eval().to(device)\n",
    "ckpt_dir = './ckpts3/'\n",
    "ckpts = os.listdir(ckpt_dir)\n",
    "if ckpts:\n",
    "    ckpts = sorted(ckpts, key = lambda x : int(x.split('.')[0].split('_')[1])) #sort\n",
    "    latest = ckpts[-1]\n",
    "    state_dict = torch.load(os.path.join(ckpt_dir,latest))\n",
    "    model.load_state_dict(state_dict['model'])\n",
    "    print(f'loaded weights {latest}')\n"
   ]
  },
  {
   "cell_type": "code",
   "execution_count": 5,
   "metadata": {},
   "outputs": [
    {
     "name": "stdout",
     "output_type": "stream",
     "text": [
      "Estimating trajectory 249/250\n",
      "\n",
      "Warping frames 249/250"
     ]
    }
   ],
   "source": [
    "frames = stabilize_video(frames, window_size=5)"
   ]
  },
  {
   "cell_type": "code",
   "execution_count": 6,
   "metadata": {},
   "outputs": [
    {
     "name": "stdout",
     "output_type": "stream",
     "text": [
      " idx: 248/250"
     ]
    }
   ],
   "source": [
    "pca_flows, masks = inpaint_flows(frames, raft, midas, midas_transforms)"
   ]
  },
  {
   "cell_type": "code",
   "execution_count": 7,
   "metadata": {},
   "outputs": [],
   "source": [
    "# Initialize final_flows with the original optical flow fields (shape: [n_frames, h, w, 2])\n",
    "in_flows = pca_flows.copy() \n",
    "warps = np.zeros_like(pca_flows)\n",
    "n_frames,height,width,_ = warps.shape\n",
    "window_size = 20\n",
    "overlap = 2\n",
    "\n",
    "# Loop through the optical flow fields using a sliding window approach\n",
    "prev_warp = np.zeros((overlap,height,width,2),dtype=np.float32)\n",
    "for idx in range(1,n_frames - window_size, window_size- overlap):\n",
    "    # Extract the current window of optical flow fields\n",
    "    net_in = in_flows[idx : idx + window_size]\n",
    "    net_in[:overlap,...] -= prev_warp\n",
    "    net_in = np.concatenate(net_in, axis=-1)\n",
    "    net_in = torch.from_numpy(net_in).permute(2, 0, 1).unsqueeze(0).float().cuda()\n",
    "    with torch.no_grad():\n",
    "        net_out = model(net_in)\n",
    "    dx = net_out[:, ::2, :, :]\n",
    "    dy = net_out[:, 1::2, :, :]\n",
    "    w = torch.stack([dx, dy], dim=-1).squeeze(0).to('cpu').numpy()\n",
    "    prev_warp = w[-overlap:,...]\n",
    "    in_flows[idx + overlap : idx + window_size - overlap] += w[overlap:-overlap,...]\n",
    "    warps[idx + overlap : idx + window_size - overlap] = w[overlap:-overlap,...]\n",
    "    flo_rgb = show_flow(w[0,...])\n",
    "    cv2.imshow('window',flo_rgb)\n",
    "    if cv2.waitKey(1) & 0xFF == ord(' '):\n",
    "        break\n",
    "cv2.destroyAllWindows()"
   ]
  },
  {
   "cell_type": "code",
   "execution_count": 10,
   "metadata": {},
   "outputs": [],
   "source": [
    "kernel_size = 15 # must be odd\n",
    "pca_flows_tensor = torch.from_numpy(pca_flows).float().permute(0, 3, 1, 2).float().to(device)\n",
    "warps_tensor = torch.from_numpy(warps).float().permute(0, 3, 1, 2).float().to(device)\n",
    "pixel_profiles = torch.cumsum(pca_flows_tensor,dim = 0)\n",
    "smooth_profiles = pixel_profiles.clone()\n",
    "for _ in range(20):\n",
    "    \n",
    "    profiles_reshaped =smooth_profiles.permute(2,3,1,0).contiguous().view(-1, 2, num_frames)\n",
    "    smooth_profiles = torch.nn.functional.avg_pool1d(profiles_reshaped,\\\n",
    "                                        kernel_size = kernel_size,\\\n",
    "                                        stride = 1,\n",
    "                                        padding = kernel_size //2)\n",
    "    smooth_profiles = smooth_profiles.permute(-1,1,0).view(num_frames,2,H,W)\n",
    "\n",
    "warps = (smooth_profiles - pixel_profiles).cpu().permute(0,2,3,1).numpy()"
   ]
  },
  {
   "cell_type": "code",
   "execution_count": 11,
   "metadata": {},
   "outputs": [
    {
     "data": {
      "text/plain": [
       "<matplotlib.legend.Legend at 0x22404a02f40>"
      ]
     },
     "execution_count": 11,
     "metadata": {},
     "output_type": "execute_result"
    },
    {
     "data": {
      "image/png": "[encoded data removed]",
      "text/plain": [
       "<Figure size 640x480 with 1 Axes>"
      ]
     },
     "metadata": {},
     "output_type": "display_data"
    }
   ],
   "source": [
    "original_trajectory = np.cumsum(pca_flows[:,50,50,0])\n",
    "smooth_trajectory = original_trajectory + warps[:,50,50,0]\n",
    "plt.plot(original_trajectory,label='original')\n",
    "plt.plot(smooth_trajectory,label='smooth')\n",
    "plt.title('Original vs Smoothed Pixel Trajectory')\n",
    "plt.yticks([])\n",
    "plt.legend()"
   ]
  },
  {
   "cell_type": "code",
   "execution_count": 10,
   "metadata": {},
   "outputs": [
    {
     "name": "stdout",
     "output_type": "stream",
     "text": [
      "57.715492963790894\n"
     ]
    }
   ],
   "source": [
    "print(time() - start)"
   ]
  },
  {
   "cell_type": "code",
   "execution_count": 12,
   "metadata": {},
   "outputs": [
    {
     "name": "stderr",
     "output_type": "stream",
     "text": [
      "c:\\Users\\VINY\\anaconda3\\envs\\vision\\lib\\site-packages\\torch\\functional.py:504: UserWarning: torch.meshgrid: in an upcoming release, it will be required to pass the indexing argument. (Triggered internally at C:\\actions-runner\\_work\\pytorch\\pytorch\\builder\\windows\\pytorch\\aten\\src\\ATen\\native\\TensorShape.cpp:3484.)\n",
      "  return _VF.meshgrid(tensors, **kwargs)  # type: ignore[attr-defined]\n"
     ]
    }
   ],
   "source": [
    "from time import sleep\n",
    "#warp and write to file\n",
    "frame_count, h, w, c = frames.shape\n",
    "stable_frames = np.zeros((n_frames,h,w,3),dtype=np.uint8)\n",
    "cv2.namedWindow('window',cv2.WINDOW_NORMAL)\n",
    "for idx in range(frame_count-1):\n",
    "    frame = torch.from_numpy(frames[idx,...]/255.0).unsqueeze(0).permute(0,3,1,2).float().cuda()\n",
    "    flow = torch.from_numpy(warps[idx,...]).unsqueeze(0).permute(0,3,1,2).float().cuda()\n",
    "    flow = gaussian_blur(flow,kernel_size = 5, sigma = 1, size = (Height,Width))\n",
    "    warped_image = dense_warp(frame,flow).cpu().squeeze(0).permute(1,2,0).numpy() \n",
    "    warped_image = (warped_image * 255).astype(np.uint8)\n",
    "    stable_frames[idx,...] = warped_image\n",
    "    cv2.imshow('window',fixBorder(warped_image))\n",
    "    sleep(1/30)\n",
    "    if cv2.waitKey(1) & 0xFF == ord(' '):\n",
    "        break\n",
    "cv2.destroyAllWindows()"
   ]
  },
  {
   "cell_type": "code",
   "execution_count": null,
   "metadata": {},
   "outputs": [],
   "source": []
  }
 ],
 "metadata": {
  "kernelspec": {
   "display_name": "DUTCode",
   "language": "python",
   "name": "python3"
  },
  "language_info": {
   "codemirror_mode": {
    "name": "ipython",
    "version": 3
   },
   "file_extension": ".py",
   "mimetype": "text/x-python",
   "name": "python",
   "nbconvert_exporter": "python",
   "pygments_lexer": "ipython3",
   "version": "3.9.18"
  },
  "orig_nbformat": 4
 },
 "nbformat": 4,
 "nbformat_minor": 2
}
